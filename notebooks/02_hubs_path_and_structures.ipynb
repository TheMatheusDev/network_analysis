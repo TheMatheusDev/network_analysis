{
  "nbformat": 4,
  "nbformat_minor": 0,
  "metadata": {
    "colab": {
      "provenance": []
    },
    "kernelspec": {
      "name": "python3",
      "display_name": "Python 3"
    },
    "language_info": {
      "name": "python"
    }
  },
  "cells": [
    {
      "cell_type": "markdown",
      "source": [
        "This notebooks is produced by:\n",
        "\n",
        "- [Network Analysis Made Simple](https://ericmjl.github.io/Network-Analysis-Made-Simple/) by [Eric Ma](https://github.com/ericmjl) and [Mridul Seth](https://github.com/MridulS).\n"
      ],
      "metadata": {
        "id": "zpdLNQ8l4m-D"
      }
    },
    {
      "cell_type": "code",
      "execution_count": null,
      "metadata": {
        "id": "24QerCaX4kRU"
      },
      "outputs": [],
      "source": [
        "%load_ext autoreload\n",
        "%autoreload 2\n",
        "%matplotlib inline\n",
        "%config InlineBackend.figure_format = 'retina'\n",
        "import warnings\n",
        "warnings.filterwarnings('ignore')"
      ]
    },
    {
      "cell_type": "markdown",
      "metadata": {
        "id": "flNXpkFQ4kRZ"
      },
      "source": [
        "## Introduction to Hubs"
      ]
    },
    {
      "cell_type": "code",
      "execution_count": null,
      "metadata": {
        "id": "UMJClmL-4kRj"
      },
      "outputs": [],
      "source": [
        "from IPython.display import YouTubeVideo\n",
        "\n",
        "YouTubeVideo(id=\"-oimHbVDdDA\", width=560, height=315)"
      ]
    },
    {
      "cell_type": "markdown",
      "metadata": {
        "id": "IToV5wib4kRm"
      },
      "source": [
        "Because of the relational structure in a graph,\n",
        "we can begin to think about \"importance\" of a node\n",
        "that is induced because of its relationships\n",
        "to the rest of the nodes in the graph.\n",
        "\n",
        "Before we go on, let's think about\n",
        "a pertinent and contemporary example.\n",
        "\n",
        "### An example: contact tracing\n",
        "\n",
        "At the time of writing (April 2020),\n",
        "finding important nodes in a graph has actually taken on a measure of importance\n",
        "that we might not have appreciated before.\n",
        "With the COVID-19 virus spreading,\n",
        "contact tracing has become quite important.\n",
        "In an infectious disease contact network,\n",
        "where individuals are nodes and\n",
        "contact between individuals of some kind are the edges,\n",
        "an \"important\" node in this contact network\n",
        "would be an individual who was infected\n",
        "who also was in contact with many people\n",
        "during the time that they were infected.\n",
        "\n",
        "### Our dataset: \"Sociopatterns\"\n",
        "\n",
        "The dataset that we will use in this chapter is the \"[sociopatterns network][sociopatterns]\" dataset.\n",
        "Incidentally, it's also about infectious diseases. \n",
        "\n",
        "[sociopatterns]: http://www.sociopatterns.org/datasets/infectious-sociopatterns-dynamic-contact-networks/\n",
        "\n",
        "Note to readers: We originally obtained the dataset in 2014\n",
        "from the Konect website.\n",
        "It is unfortunately no longer available.\n",
        "The sociopatterns.org website hosts an edge list of a slightly different format,\n",
        "so it will look different from what we have here.\n",
        "\n",
        "From the original description on Konect, here is the description of the dataset:\n",
        "\n",
        "> This network describes the face-to-face behavior of people\n",
        "> during the exhibition INFECTIOUS: STAY AWAY in 2009\n",
        "> at the Science Gallery in Dublin.\n",
        "> Nodes represent exhibition visitors;\n",
        "> edges represent face-to-face contacts that were active for at least 20 seconds.\n",
        "> Multiple edges between two nodes are possible and denote multiple contacts.\n",
        "> The network contains the data from the day with the most interactions.\n",
        "\n",
        "To simplify the network, we have represented only the last contact between individuals.\n",
        "\n",
        "[README - Details of sociopatterns-infectious](https://github.com/ericmjl/Network-Analysis-Made-Simple/blob/master/data/sociopatterns-infectious/README.sociopatterns-infectious)"
      ]
    },
    {
      "cell_type": "code",
      "source": [
        "import networkx as nx\n",
        "from datetime import datetime\n",
        "import matplotlib.pyplot as plt\n",
        "import numpy as np\n",
        "import pandas as pd\n",
        "import warnings\n",
        "\n",
        "df = pd.read_csv(\n",
        "        \"https://raw.githubusercontent.com/ericmjl/Network-Analysis-Made-Simple/master/data/sociopatterns-infectious/out.sociopatterns-infectious\",\n",
        "        sep=\" \",\n",
        "        skiprows=2,\n",
        "        header=None,\n",
        "    )\n",
        "df = df[[0, 1, 2]]\n",
        "df.columns = [\"person1\", \"person2\", \"weight\"]\n",
        "\n",
        "G = nx.Graph()\n",
        "for row in df.iterrows():\n",
        "    p1 = row[1][\"person1\"]\n",
        "    p2 = row[1][\"person2\"]\n",
        "    if G.has_edge(p1, p2):\n",
        "        G.edges[p1, p2][\"weight\"] += 1\n",
        "    else:\n",
        "        G.add_edge(p1, p2, weight=1)\n",
        "\n",
        "for n in sorted(G.nodes()):\n",
        "    G.nodes[n][\"order\"] = float(n)\n",
        "\n"
      ],
      "metadata": {
        "id": "wJEn-9ID5MSt"
      },
      "execution_count": null,
      "outputs": []
    },
    {
      "cell_type": "markdown",
      "metadata": {
        "id": "gSxhBGsm4kRr"
      },
      "source": [
        "It is loaded as an undirected graph object:"
      ]
    },
    {
      "cell_type": "code",
      "execution_count": null,
      "metadata": {
        "id": "lYlWr6IE4kRt",
        "colab": {
          "base_uri": "https://localhost:8080/"
        },
        "outputId": "002c4655-d2f6-45e2-a6f3-1f9889798213"
      },
      "outputs": [
        {
          "output_type": "execute_result",
          "data": {
            "text/plain": [
              "networkx.classes.graph.Graph"
            ]
          },
          "metadata": {},
          "execution_count": 4
        }
      ],
      "source": [
        "type(G)"
      ]
    },
    {
      "cell_type": "markdown",
      "metadata": {
        "id": "Vzn48x1f4kRw"
      },
      "source": [
        "As usual, before proceeding with any analysis,\n",
        "we should know basic graph statistics."
      ]
    },
    {
      "cell_type": "code",
      "execution_count": null,
      "metadata": {
        "id": "jsHGP1HD4kR0",
        "colab": {
          "base_uri": "https://localhost:8080/"
        },
        "outputId": "0c3d2809-ba4a-4969-d5bf-f9471f8242ff"
      },
      "outputs": [
        {
          "output_type": "execute_result",
          "data": {
            "text/plain": [
              "(410, 2765)"
            ]
          },
          "metadata": {},
          "execution_count": 5
        }
      ],
      "source": [
        "len(G.nodes()), len(G.edges())"
      ]
    },
    {
      "cell_type": "code",
      "source": [
        "nx.draw(G)\n",
        "plt.show()"
      ],
      "metadata": {
        "colab": {
          "base_uri": "https://localhost:8080/",
          "height": 516
        },
        "id": "OdB9mjXn6bWo",
        "outputId": "acd3ea61-d419-4127-ef3c-a8327f3301c9"
      },
      "execution_count": null,
      "outputs": [
        {
          "output_type": "display_data",
          "data": {
            "text/plain": [
              "<Figure size 640x480 with 1 Axes>"
            ],
            "image/png": "[encoded data removed]"
          },
          "metadata": {}
        }
      ]
    },
    {
      "cell_type": "markdown",
      "metadata": {
        "id": "0n0OrDEd4kR5"
      },
      "source": [
        "## A Measure of Importance: \"Number of Neighbors\"\n",
        "\n",
        "One measure of importance of a node is\n",
        "the number of **neighbors** that the node has.\n",
        "What is a **neighbor**?\n",
        "We will work with the following definition:\n",
        "\n",
        "> The neighbor of a node is connected to that node by an edge.\n",
        "\n",
        "Let's explore this concept, using the NetworkX API.\n",
        "\n",
        "Every NetworkX graph provides a `G.neighbors(node)` class method,\n",
        "which lets us query a graph for the number of neighbors\n",
        "of a given node:"
      ]
    },
    {
      "cell_type": "code",
      "execution_count": null,
      "metadata": {
        "id": "o2M97qmI4kR6",
        "colab": {
          "base_uri": "https://localhost:8080/"
        },
        "outputId": "eca0ad23-388a-4183-9739-43bec802ba74"
      },
      "outputs": [
        {
          "output_type": "execute_result",
          "data": {
            "text/plain": [
              "<dict_keyiterator at 0x7efda7979e50>"
            ]
          },
          "metadata": {},
          "execution_count": 6
        }
      ],
      "source": [
        "G.neighbors(7)"
      ]
    },
    {
      "cell_type": "markdown",
      "metadata": {
        "id": "ZSqxVhFJ4kR8"
      },
      "source": [
        "It returns a generator that doesn't immediately return\n",
        "the exact neighbors list.\n",
        "This means we cannot know its exact length,\n",
        "as it is a generator.\n",
        "If you tried to do:\n",
        "\n",
        "```python\n",
        "len(G.neighbors(7))\n",
        "```\n",
        "\n",
        "you would get the following error:\n",
        "\n",
        "```python\n",
        "---------------------------------------------------------------------------\n",
        "TypeError                                 Traceback (most recent call last)\n",
        "<ipython-input-13-72c56971d077> in <module>\n",
        "----> 1 len(G.neighbors(7))\n",
        "\n",
        "TypeError: object of type 'dict_keyiterator' has no len()\n",
        "```\n",
        "\n",
        "Hence, we will need to cast it as a list in order to know\n",
        "both its length\n",
        "and its members:"
      ]
    },
    {
      "cell_type": "code",
      "execution_count": null,
      "metadata": {
        "id": "dcrlajzs4kR_",
        "colab": {
          "base_uri": "https://localhost:8080/"
        },
        "outputId": "00e35531-cd75-405e-a16e-f427a31c9ce2"
      },
      "outputs": [
        {
          "output_type": "execute_result",
          "data": {
            "text/plain": [
              "[5, 6, 21, 22, 37, 48, 51]"
            ]
          },
          "metadata": {},
          "execution_count": 8
        }
      ],
      "source": [
        "list(G.neighbors(7))"
      ]
    },
    {
      "cell_type": "markdown",
      "metadata": {
        "id": "WMZhio1N4kSB"
      },
      "source": [
        "In the event that some nodes have an extensive list of neighbors,\n",
        "then using the `dict_keyiterator` is potentially a good memory-saving technique,\n",
        "as it lazily yields the neighbors."
      ]
    },
    {
      "cell_type": "markdown",
      "metadata": {
        "id": "ZkCUHs-M4kSC"
      },
      "source": [
        "### Exercise: Rank-ordering the number of neighbors a node has\n",
        "\n",
        "Since we know how to get the list of nodes that are neighbors of a given node,\n",
        "try this following exercise:\n",
        "\n",
        "> Can you create a ranked list of the importance of each individual, based on the number of neighbors they have?\n",
        "\n",
        "Here are a few hints to help:\n",
        "\n",
        "- You could consider using a `pandas Series`. This would be a modern and idiomatic way of approaching the problem.\n",
        "- You could also consider using Python's `sorted` function."
      ]
    },
    {
      "cell_type": "code",
      "execution_count": null,
      "metadata": {
        "id": "1UgomSQO4kSE"
      },
      "outputs": [],
      "source": [
        "#### REPLACE THE NEXT FEW LINES WITH YOUR ANSWER\n"
      ]
    },
    {
      "cell_type": "markdown",
      "metadata": {
        "id": "_GbH2nPi4kSK"
      },
      "source": [
        "## Generalizing \"neighbors\" to arbitrarily-sized graphs\n",
        "\n",
        "The concept of neighbors is simple and appealing,\n",
        "but it leaves us with a slight point of dissatisfaction:\n",
        "it is difficult to compare graphs of different sizes.\n",
        "Is a node more important solely because it has more neighbors?\n",
        "What if it were situated in an extremely large graph?\n",
        "Would we not expect it to have more neighbors?\n",
        "\n",
        "As such, we need a normalization factor.\n",
        "One reasonable one, in fact, is\n",
        "_the number of nodes that a given node could **possibly** be connected to._\n",
        "By taking the ratio of the number of neighbors a node has\n",
        "to the number of neighbors it could possibly have,\n",
        "we get the **degree centrality** metric.\n",
        "\n",
        "Formally defined, the degree centrality of a node (let's call it $d$)\n",
        "is the number of neighbors that a node has (let's call it $n$)\n",
        "divided by the number of neighbors it could _possibly_ have (let's call it $N$):\n",
        "\n",
        "$$d = \\frac{n}{N}$$\n",
        "\n",
        "NetworkX provides a function for us to calculate degree centrality conveniently:"
      ]
    },
    {
      "cell_type": "code",
      "execution_count": null,
      "metadata": {
        "id": "Y8Z0GvZN4kSL",
        "colab": {
          "base_uri": "https://localhost:8080/"
        },
        "outputId": "33b7d3e4-d567-4938-ee19-facff55803fd"
      },
      "outputs": [
        {
          "output_type": "execute_result",
          "data": {
            "text/plain": [
              "100    0.070905\n",
              "101    0.031785\n",
              "102    0.039120\n",
              "103    0.063570\n",
              "104    0.041565\n",
              "         ...   \n",
              "89     0.009780\n",
              "91     0.051345\n",
              "96     0.036675\n",
              "99     0.034230\n",
              "98     0.002445\n",
              "Length: 410, dtype: float64"
            ]
          },
          "metadata": {},
          "execution_count": 10
        }
      ],
      "source": [
        "import networkx as nx\n",
        "import pandas as pd\n",
        "dcs = pd.Series(nx.degree_centrality(G))\n",
        "dcs"
      ]
    },
    {
      "cell_type": "markdown",
      "metadata": {
        "id": "-lPhhR7H4kSM"
      },
      "source": [
        "`nx.degree_centrality(G)` returns to us a dictionary of key-value pairs,\n",
        "where the keys are node IDs\n",
        "and values are the degree centrality score.\n",
        "To save on output length, I took the liberty of casting it as a pandas Series\n",
        "to make it easier to display.\n",
        "\n",
        "Incidentally, we can also sort the series\n",
        "to find the nodes with the highest degree centralities:"
      ]
    },
    {
      "cell_type": "code",
      "execution_count": null,
      "metadata": {
        "id": "yB02r5t94kSN",
        "colab": {
          "base_uri": "https://localhost:8080/"
        },
        "outputId": "f91cf342-1968-4974-f0ad-dab198304445"
      },
      "outputs": [
        {
          "output_type": "execute_result",
          "data": {
            "text/plain": [
              "51     0.122249\n",
              "272    0.114914\n",
              "235    0.105134\n",
              "195    0.105134\n",
              "265    0.083130\n",
              "         ...   \n",
              "390    0.002445\n",
              "135    0.002445\n",
              "398    0.002445\n",
              "186    0.002445\n",
              "98     0.002445\n",
              "Length: 410, dtype: float64"
            ]
          },
          "metadata": {},
          "execution_count": 11
        }
      ],
      "source": [
        "dcs.sort_values(ascending=False)"
      ]
    },
    {
      "cell_type": "markdown",
      "metadata": {
        "id": "9J9XZgjq4kSO"
      },
      "source": [
        "Does the list order look familiar?\n",
        "It should, since the numerator of the degree centrality metric\n",
        "is identical to the number of neighbors,\n",
        "and the denominator is a constant.\n",
        "\n",
        "## Distribution of graph metrics\n",
        "\n",
        "One important concept that you should come to know\n",
        "is that the distribution of node-centric values\n",
        "can characterize classes of graphs.\n",
        "\n",
        "What do we mean by \"distribution of node-centric values\"?\n",
        "One would be the degree distribution,\n",
        "that is, the collection of node degree values in a graph.\n",
        "\n",
        "Generally, you might be familiar with plotting a histogram\n",
        "to visualize distributions of values,\n",
        "but in this book, we are going to avoid histograms like the plague.\n",
        "I detail a lot of reasons in a [blog post][ecdf] I wrote in 2018,\n",
        "but the main points are that:\n",
        "\n",
        "1. It's easier to lie with histograms.\n",
        "1. You get informative statistical information (median, IQR, extremes/outliers)\n",
        "more easily.\n",
        "\n",
        "[ecdf]: https://ericmjl.github.io/blog/2018/7/14/ecdfs/\n",
        "\n",
        "### Exercise: Degree distribution\n",
        "\n",
        "In this next exercise, we are going to get practice visualizing these values\n",
        "using empirical cumulative distribution function plots.\n",
        "\n",
        "I have written for you an ECDF function that you can use already.\n",
        "Its API looks like the following:\n",
        "\n",
        "```python\n",
        "x, y = ecdf(list_of_values)\n",
        "```\n",
        "\n",
        "giving you `x` and `y` values that you can directly plot.\n",
        "\n",
        "The exercise prompt is this:\n",
        "\n",
        "> Plot the ECDF of the degree centrality and degree distributions.\n",
        "\n",
        "First do it for **degree centrality**:"
      ]
    },
    {
      "cell_type": "markdown",
      "metadata": {
        "id": "0M-atDub4kSS"
      },
      "source": [
        "Now do it for **degree**:"
      ]
    },
    {
      "cell_type": "code",
      "execution_count": null,
      "metadata": {
        "id": "m-VJ4rZx4kST"
      },
      "outputs": [],
      "source": [
        "#### REPLACE THE FUNCTION CALL WITH YOUR ANSWER\n"
      ]
    },
    {
      "cell_type": "markdown",
      "metadata": {
        "id": "-bGlqxxT4kSV"
      },
      "source": [
        "The fact that they are identically-shaped\n",
        "should not surprise you!"
      ]
    },
    {
      "cell_type": "markdown",
      "metadata": {
        "id": "G637G4S04kSX"
      },
      "source": [
        "### Exercise: What about that denominator?\n",
        "\n",
        "The denominator $N$ in the degree centrality definition\n",
        "is \"the number of nodes that a node could _possibly_ be connected to\".\n",
        "Can you think of two ways $N$ be defined?"
      ]
    },
    {
      "cell_type": "code",
      "execution_count": null,
      "metadata": {
        "id": "k8ozPjFh4kSY"
      },
      "outputs": [],
      "source": [
        "#### UNCOMMENT TO SEE MY ANSWER\n"
      ]
    },
    {
      "cell_type": "markdown",
      "metadata": {
        "id": "fGlnIysx4kSY"
      },
      "source": [
        "### Exercise: Circos Plotting\n",
        "\n",
        "Let's get some practice with the `nxviz` API.\n",
        "\n",
        "> Visualize the graph `G`, while ordering and colouring them by the 'order' node attribute.\n",
        "\n",
        "\n",
        "[Using nxviz](https://pypi.org/project/nxviz/)"
      ]
    },
    {
      "cell_type": "code",
      "execution_count": null,
      "metadata": {
        "tags": [],
        "id": "hp6hGtAW4kSY"
      },
      "outputs": [],
      "source": [
        "#### REPLACE THE NEXT LINE WITH YOUR ANSWER\n"
      ]
    },
    {
      "cell_type": "code",
      "source": [
        "!pip install nxviz"
      ],
      "metadata": {
        "colab": {
          "base_uri": "https://localhost:8080/"
        },
        "id": "TTRsLjCU86u9",
        "outputId": "8804e1f3-cab5-4d3e-a345-e2dfa7a43551"
      },
      "execution_count": null,
      "outputs": [
        {
          "output_type": "stream",
          "name": "stdout",
          "text": [
            "Looking in indexes: https://pypi.org/simple, https://us-python.pkg.dev/colab-wheels/public/simple/\n",
            "Collecting nxviz\n",
            "  Downloading nxviz-0.7.4-py3-none-any.whl (28 kB)\n",
            "Requirement already satisfied: networkx>=2.5 in /usr/local/lib/python3.9/dist-packages (from nxviz) (3.0)\n",
            "Requirement already satisfied: more-itertools>=8.6.0 in /usr/local/lib/python3.9/dist-packages (from nxviz) (9.1.0)\n",
            "Requirement already satisfied: seaborn>=0.11.1 in /usr/local/lib/python3.9/dist-packages (from nxviz) (0.12.2)\n",
            "Requirement already satisfied: matplotlib>=3.3.3 in /usr/local/lib/python3.9/dist-packages (from nxviz) (3.7.1)\n",
            "Requirement already satisfied: palettable>=3.3.0 in /usr/local/lib/python3.9/dist-packages (from nxviz) (3.3.0)\n",
            "Requirement already satisfied: numpy>=1.19.4 in /usr/local/lib/python3.9/dist-packages (from nxviz) (1.22.4)\n",
            "Requirement already satisfied: pandas>=1.2.0 in /usr/local/lib/python3.9/dist-packages (from nxviz) (1.4.4)\n",
            "Requirement already satisfied: cycler>=0.10 in /usr/local/lib/python3.9/dist-packages (from matplotlib>=3.3.3->nxviz) (0.11.0)\n",
            "Requirement already satisfied: pyparsing>=2.3.1 in /usr/local/lib/python3.9/dist-packages (from matplotlib>=3.3.3->nxviz) (3.0.9)\n",
            "Requirement already satisfied: pillow>=6.2.0 in /usr/local/lib/python3.9/dist-packages (from matplotlib>=3.3.3->nxviz) (8.4.0)\n",
            "Requirement already satisfied: kiwisolver>=1.0.1 in /usr/local/lib/python3.9/dist-packages (from matplotlib>=3.3.3->nxviz) (1.4.4)\n",
            "Requirement already satisfied: fonttools>=4.22.0 in /usr/local/lib/python3.9/dist-packages (from matplotlib>=3.3.3->nxviz) (4.39.3)\n",
            "Requirement already satisfied: python-dateutil>=2.7 in /usr/local/lib/python3.9/dist-packages (from matplotlib>=3.3.3->nxviz) (2.8.2)\n",
            "Requirement already satisfied: packaging>=20.0 in /usr/local/lib/python3.9/dist-packages (from matplotlib>=3.3.3->nxviz) (23.0)\n",
            "Requirement already satisfied: contourpy>=1.0.1 in /usr/local/lib/python3.9/dist-packages (from matplotlib>=3.3.3->nxviz) (1.0.7)\n",
            "Requirement already satisfied: importlib-resources>=3.2.0 in /usr/local/lib/python3.9/dist-packages (from matplotlib>=3.3.3->nxviz) (5.12.0)\n",
            "Requirement already satisfied: pytz>=2020.1 in /usr/local/lib/python3.9/dist-packages (from pandas>=1.2.0->nxviz) (2022.7.1)\n",
            "Requirement already satisfied: zipp>=3.1.0 in /usr/local/lib/python3.9/dist-packages (from importlib-resources>=3.2.0->matplotlib>=3.3.3->nxviz) (3.15.0)\n",
            "Requirement already satisfied: six>=1.5 in /usr/local/lib/python3.9/dist-packages (from python-dateutil>=2.7->matplotlib>=3.3.3->nxviz) (1.16.0)\n",
            "Installing collected packages: nxviz\n",
            "Successfully installed nxviz-0.7.4\n"
          ]
        }
      ]
    },
    {
      "cell_type": "markdown",
      "metadata": {
        "id": "FUhKtFyD4kSe"
      },
      "source": [
        "And here's an alternative view using an arc plot. \n"
      ]
    },
    {
      "cell_type": "code",
      "execution_count": null,
      "metadata": {
        "tags": [],
        "id": "p9RJFQgj4kSf",
        "colab": {
          "base_uri": "https://localhost:8080/",
          "height": 302
        },
        "outputId": "1af94174-5ebb-4dbb-9f12-bff80da0df6b"
      },
      "outputs": [
        {
          "output_type": "execute_result",
          "data": {
            "text/plain": [
              "<Axes: >"
            ]
          },
          "metadata": {},
          "execution_count": 24
        },
        {
          "output_type": "display_data",
          "data": {
            "text/plain": [
              "<Figure size 640x480 with 1 Axes>"
            ],
            "image/png": "[encoded data removed]"
          },
          "metadata": {}
        }
      ],
      "source": [
        "import warnings\n",
        "warnings.filterwarnings('ignore')\n",
        "\n",
        "import nxviz as nv\n",
        "\n",
        "nv.arc(G, sort_by=\"order\", node_color_by=\"order\")"
      ]
    },
    {
      "cell_type": "markdown",
      "metadata": {
        "id": "P11m8uvi4kSg"
      },
      "source": [
        "### Exercise: Visual insights\n",
        "\n",
        "Since we know that node colour and order\n",
        "are by the \"order\" in which the person entered into the exhibit,\n",
        "what does this visualization tell you?"
      ]
    },
    {
      "cell_type": "code",
      "execution_count": null,
      "metadata": {
        "tags": [],
        "id": "Xz4lIVgt4kSh"
      },
      "outputs": [],
      "source": [
        "#### \n"
      ]
    },
    {
      "cell_type": "markdown",
      "metadata": {
        "id": "qFWILhjS4kSi"
      },
      "source": [
        "### Exercise: Investigating degree centrality and node order\n",
        "\n",
        "One of the insights that we might have gleaned from visualizing the graph\n",
        "is that the nodes that have a high degree centrality\n",
        "might also be responsible for the edges that criss-cross the Circos plot.\n",
        "To test this, plot the following:\n",
        "\n",
        "- x-axis: node degree centrality\n",
        "- y-axis: maximum difference between the neighbors' `order`s (a node attribute) and the node's `order`."
      ]
    },
    {
      "cell_type": "markdown",
      "metadata": {
        "id": "CY9xx66Z4kSl"
      },
      "source": [
        "The somewhat positive correlation between the degree centrality might tell us that this trend holds true.\n",
        "A further applied question would be to ask what behaviour of these nodes would give rise to this pattern.\n",
        "Are these nodes actually exhibit staff?\n",
        "Or is there some other reason why they are staying so long?\n",
        "This, of course, would require joining in further information\n",
        "that we would overlay on top of the graph\n",
        "(by adding them as node or edge attributes)\n",
        "before we might make further statements."
      ]
    },
    {
      "cell_type": "markdown",
      "metadata": {
        "id": "KMfXWMri4kSm"
      },
      "source": [
        "## Reflections\n",
        "\n",
        "In this chapter, we defined a metric of node importance: the degree centrality metric.\n",
        "In the example we looked at, it could help us identify\n",
        "potential infectious agent superspreaders in a disease contact network.\n",
        "In other settings, it might help us spot:\n",
        "\n",
        "- message amplifiers/influencers in a social network, and \n",
        "- potentially crowded airports that have lots of connections into and out of it (still relevant to infectious disease spread!)\n",
        "- and many more!\n",
        "\n",
        "What other settings can you think of in which the number of neighbors that a node has can become\n",
        "a metric of importance for the node?"
      ]
    },
    {
      "cell_type": "markdown",
      "source": [
        "## Introduction to Paths"
      ],
      "metadata": {
        "id": "9qZSfQ0q48KU"
      }
    },
    {
      "cell_type": "code",
      "execution_count": null,
      "metadata": {
        "id": "RSKR4EeE5Dn_"
      },
      "outputs": [],
      "source": [
        "%load_ext autoreload\n",
        "%autoreload 2\n",
        "%matplotlib inline\n",
        "%config InlineBackend.figure_format = 'retina'\n",
        "import warnings\n",
        "warnings.filterwarnings('ignore')"
      ]
    },
    {
      "cell_type": "code",
      "execution_count": null,
      "metadata": {
        "id": "uK7024vy5DoN"
      },
      "outputs": [],
      "source": [
        "from IPython.display import YouTubeVideo\n",
        "\n",
        "YouTubeVideo(id=\"JjpbztqP9_0\", width=\"100%\")"
      ]
    },
    {
      "cell_type": "markdown",
      "metadata": {
        "id": "YMgpAZtx5DoR"
      },
      "source": [
        "Graph traversal is akin to walking along the graph, node by node,\n",
        "constrained by the edges that connect the nodes.\n",
        "Graph traversal is particularly useful for understanding \n",
        "the local structure of certain portions of the graph\n",
        "and for finding paths that connect two nodes in the network.\n",
        "\n",
        "In this chapter, we are going to learn how to perform pathfinding in a graph,\n",
        "specifically by looking for _shortest paths_ via the _breadth-first search_ algorithm."
      ]
    },
    {
      "cell_type": "markdown",
      "metadata": {
        "id": "MqtcqYjQ5DoT"
      },
      "source": [
        "## Breadth-First Search\n",
        "\n",
        "The BFS algorithm is a staple of computer science curricula,\n",
        "and for good reason:\n",
        "it teaches learners how to \"think on\" a graph,\n",
        "putting one in the position of \n",
        "\"the dumb computer\" that can't use a visual cortex to \n",
        "\"_just know_\" how to trace a path from one node to another.\n",
        "As a topic, learning how to do BFS\n",
        "additionally imparts algorithmic thinking to the learner.\n",
        "\n",
        "### Exercise: Design the algorithm\n",
        "\n",
        "Try out this exercise to get some practice with algorithmic thinking.\n",
        "\n",
        "> 1. On a piece of paper, conjure up a graph that has 15-20 nodes. Connect them any way you like.\n",
        "> 1. Pick two nodes. Pretend that you're standing on one of the nodes, but you can't see any further beyond one neighbor away.\n",
        "> 1. Work out how you can find _a_ path from the node you're standing on to the other node, given that you can _only_ see nodes that are one neighbor away but have an infinitely good memory.\n",
        "\n",
        "If you are successful at designing the algorithm, you should get the answer below."
      ]
    },
    {
      "cell_type": "code",
      "execution_count": null,
      "metadata": {
        "id": "ttthXIp75DoW"
      },
      "outputs": [],
      "source": [
        "df = pd.read_csv(\n",
        "       \"https://raw.githubusercontent.com/ericmjl/Network-Analysis-Made-Simple/master/data/sociopatterns-infectious/out.sociopatterns-infectious\",\n",
        "        sep=\" \",\n",
        "        skiprows=2,\n",
        "        header=None,\n",
        "    )\n",
        "df = df[[0, 1, 2]]\n",
        "df.columns = [\"person1\", \"person2\", \"weight\"]\n",
        "\n",
        "G = nx.Graph()\n",
        "for row in df.iterrows():\n",
        "    p1 = row[1][\"person1\"]\n",
        "    p2 = row[1][\"person2\"]\n",
        "    if G.has_edge(p1, p2):\n",
        "        G.edges[p1, p2][\"weight\"] += 1\n",
        "    else:\n",
        "        G.add_edge(p1, p2, weight=1)\n",
        "\n",
        "for n in sorted(G.nodes()):\n",
        "    G.nodes[n][\"order\"] = float(n)"
      ]
    },
    {
      "cell_type": "markdown",
      "metadata": {
        "id": "w84Kzr5c5Dod"
      },
      "source": [
        "### Exercise: Implement the algorithm\n",
        "\n",
        "> Now that you've seen how the algorithm works, try implementing it!"
      ]
    },
    {
      "cell_type": "code",
      "execution_count": null,
      "metadata": {
        "id": "1lxe-io_5Dof"
      },
      "outputs": [],
      "source": [
        "# FILL IN THE BLANKS BELOW\n",
        "\n",
        "def path_exists(node1, node2, G):\n",
        "    \"\"\"\n",
        "    This function checks whether a path exists between two nodes (node1, \n",
        "    node2) in graph G.\n",
        "    \"\"\"\n",
        "    visited_nodes = _____\n",
        "    queue = [_____]\n",
        "    \n",
        "    while len(queue) > 0:\n",
        "        node = ___________\n",
        "        neighbors = list(_________________)\n",
        "        if _____ in _________:\n",
        "            # print('Path exists between nodes {0} and {1}'.format(node1, node2))\n",
        "            return True\n",
        "        else:\n",
        "            visited_nodes.___(____)\n",
        "            nbrs = [_ for _ in _________ if _ not in _____________]\n",
        "            queue = ____ + _____\n",
        "    \n",
        "    # print('Path does not exist between nodes {0} and {1}'.format(node1, node2))\n",
        "    return False\n"
      ]
    },
    {
      "cell_type": "code",
      "execution_count": null,
      "metadata": {
        "id": "vkZqwy6-5Dok"
      },
      "outputs": [],
      "source": [
        "# CHECK YOUR ANSWER AGAINST THE TEST FUNCTION BELOW\n",
        "from random import sample\n",
        "import networkx as nx\n",
        "\n",
        "\n",
        "def test_path_exists(N):\n",
        "    \"\"\"\n",
        "    N: The number of times to spot-check.\n",
        "    \"\"\"\n",
        "    for i in range(N):\n",
        "        n1, n2 = sample(G.nodes(), 2)\n",
        "        assert path_exists(n1, n2, G) == bool(nx.shortest_path(G, n1, n2))\n",
        "    return True\n",
        "    \n",
        "assert test_path_exists(10)"
      ]
    },
    {
      "cell_type": "markdown",
      "metadata": {
        "id": "M9Ns3SwI5Dom"
      },
      "source": [
        "## Visualizing Paths\n",
        "\n",
        "One of the objectives of that exercise before was to help you \"think on graphs\".\n",
        "Now that you've learned how to do so, you might be wondering,\n",
        "\"How do I visualize that path through the graph?\"\n",
        "\n",
        "Well first off, if you inspect the `test_path_exists` function above,\n",
        "you'll notice that NetworkX provides a `shortest_path()` function\n",
        "that you can use. Here's what using `nx.shortest_path()` looks like."
      ]
    },
    {
      "cell_type": "code",
      "execution_count": null,
      "metadata": {
        "id": "bYlY0uHy5Doo",
        "colab": {
          "base_uri": "https://localhost:8080/"
        },
        "outputId": "5d56d51f-1d5b-406d-ab76-dd7902f6b174"
      },
      "outputs": [
        {
          "output_type": "execute_result",
          "data": {
            "text/plain": [
              "[7, 51, 188, 230, 335, 400]"
            ]
          },
          "metadata": {},
          "execution_count": 28
        }
      ],
      "source": [
        "path = nx.shortest_path(G, 7, 400)\n",
        "path"
      ]
    },
    {
      "cell_type": "markdown",
      "metadata": {
        "id": "KDPaoKid5Dop"
      },
      "source": [
        "As you can see, it returns the nodes along the shortest path,\n",
        "incidentally in the exact order that you would traverse.\n",
        "\n",
        "One thing to note, though!\n",
        "If there are multiple shortest paths from one node to another,\n",
        "NetworkX will only return one of them.\n",
        "\n",
        "So how do you draw those nodes _only_?\n",
        "\n",
        "You can use the `G.subgraph(nodes)`\n",
        "to return a new graph that only has nodes in `nodes`\n",
        "and only the edges that exist between them.\n",
        "After that, you can use any plotting library you like.\n",
        "We will show an example here that uses nxviz's matrix plot.\n",
        "\n",
        "Let's see it in action:"
      ]
    },
    {
      "cell_type": "code",
      "execution_count": null,
      "metadata": {
        "tags": [],
        "id": "XSPUDzIp5Dop",
        "colab": {
          "base_uri": "https://localhost:8080/",
          "height": 423
        },
        "outputId": "6dd7124a-9c63-4326-bdef-6ef8c034f9bc"
      },
      "outputs": [
        {
          "output_type": "execute_result",
          "data": {
            "text/plain": [
              "<Axes: >"
            ]
          },
          "metadata": {},
          "execution_count": 29
        },
        {
          "output_type": "display_data",
          "data": {
            "text/plain": [
              "<Figure size 640x480 with 1 Axes>"
            ],
            "image/png": "[encoded data removed]"
          },
          "metadata": {}
        }
      ],
      "source": [
        "import nxviz as nv\n",
        "g = G.subgraph(path)\n",
        "nv.matrix(g, sort_by=\"order\")"
      ]
    },
    {
      "cell_type": "markdown",
      "metadata": {
        "id": "PwYDAqzr5Dor"
      },
      "source": [
        "_Voila!_ Now we have the subgraph (1) extracted and (2) drawn to screen!\n",
        "In this case, the matrix plot is a suitable visualization for its compactness.\n",
        "The off-diagonals also show that each node is a neighbor to the next one.\n",
        "\n",
        "You'll also notice that if you try to modify the graph `g`, say by adding a node:\n",
        "\n",
        "```python\n",
        "g.add_node(2048)\n",
        "```\n",
        "\n",
        "you will get an error:\n",
        "\n",
        "```python\n",
        "---------------------------------------------------------------------------\n",
        "NetworkXError                             Traceback (most recent call last)\n",
        "<ipython-input-10-ca6aa4c26819> in <module>\n",
        "----> 1 g.add_node(2048)\n",
        "\n",
        "~/anaconda/envs/nams/lib/python3.7/site-packages/networkx/classes/function.py in frozen(*args, **kwargs)\n",
        "    156 def frozen(*args, **kwargs):\n",
        "    157     \"\"\"Dummy method for raising errors when trying to modify frozen graphs\"\"\"\n",
        "--> 158     raise nx.NetworkXError(\"Frozen graph can't be modified\")\n",
        "    159 \n",
        "    160 \n",
        "\n",
        "NetworkXError: Frozen graph can't be modified\n",
        "```\n",
        "\n",
        "From the perspective of semantics, this makes a ton of sense:\n",
        "the subgraph `g` is a perfect subset of the larger graph `G`,\n",
        "and should not be allowed to be modified\n",
        "unless the larger container graph is modified."
      ]
    },
    {
      "cell_type": "markdown",
      "metadata": {
        "id": "SUJ29Zkx5Dor"
      },
      "source": [
        "### Exercise: Draw path with neighbors one degree out\n",
        "\n",
        "Try out this next exercise:\n",
        "\n",
        "> Extend graph drawing with the neighbors of each of those nodes.\n",
        "> Use any of the nxviz plots (`nv.matrix`, `nv.arc`, `nv.circos`);\n",
        "> try to see which one helps you tell the best story."
      ]
    },
    {
      "cell_type": "code",
      "execution_count": null,
      "metadata": {
        "tags": [],
        "id": "EaAtBZf95Dos"
      },
      "outputs": [],
      "source": [
        "### YOUR SOLUTION BELOW\n"
      ]
    },
    {
      "cell_type": "markdown",
      "metadata": {
        "id": "QAOpd0WI5Do0"
      },
      "source": [
        "In this case, we opted for an Arc plot because we only have one grouping of nodes but have a logical way to order them.\n",
        "Because the path follows the order, the edges being highlighted automatically look like hops through the graph."
      ]
    },
    {
      "cell_type": "markdown",
      "metadata": {
        "id": "XoHpXqCK5Do1"
      },
      "source": [
        "## Bottleneck nodes\n",
        "\n",
        "We're now going to revisit the concept of an \"important node\",\n",
        "this time now leveraging what we know about paths.\n",
        "\n",
        "In the \"hubs\" chapter, we saw how a node that is \"important\"\n",
        "could be so because it is connected to many other nodes.\n",
        "\n",
        "Paths give us an alternative definition.\n",
        "If we imagine that we have to pass a message on a graph\n",
        "from one node to another,\n",
        "then there may be \"bottleneck\" nodes\n",
        "for which if they are removed,\n",
        "then messages have a harder time flowing through the graph.\n",
        "\n",
        "One metric that measures this form of importance\n",
        "is the \"betweenness centrality\" metric.\n",
        "On a graph through which a generic \"message\" is flowing,\n",
        "a node with a high betweenness centrality\n",
        "is one that has a high proportion of shortest paths\n",
        "flowing through it.\n",
        "In other words, it behaves like a _bottleneck_."
      ]
    },
    {
      "cell_type": "markdown",
      "metadata": {
        "id": "qkdh4Z9T5Do2"
      },
      "source": [
        "### Betweenness centrality in NetworkX\n",
        "\n",
        "NetworkX provides a \"betweenness centrality\" function\n",
        "that behaves consistently with the \"degree centrality\" function,\n",
        "in that it returns a mapping from node to metric:"
      ]
    },
    {
      "cell_type": "code",
      "execution_count": null,
      "metadata": {
        "tags": [],
        "id": "pI0qdV6Z5Do2",
        "colab": {
          "base_uri": "https://localhost:8080/"
        },
        "outputId": "b2d993fa-3044-4b1a-ff03-30bbf3999599"
      },
      "outputs": [
        {
          "output_type": "execute_result",
          "data": {
            "text/plain": [
              "100    0.014809\n",
              "101    0.001398\n",
              "102    0.000748\n",
              "103    0.006735\n",
              "104    0.001198\n",
              "         ...   \n",
              "89     0.000004\n",
              "91     0.006415\n",
              "96     0.000323\n",
              "99     0.000322\n",
              "98     0.000000\n",
              "Length: 410, dtype: float64"
            ]
          },
          "metadata": {},
          "execution_count": 34
        }
      ],
      "source": [
        "import pandas as pd\n",
        "\n",
        "pd.Series(nx.betweenness_centrality(G))"
      ]
    },
    {
      "cell_type": "markdown",
      "metadata": {
        "id": "627VQZQj5Do3"
      },
      "source": [
        "### Exercise: compare degree and betweenness centrality\n",
        "\n",
        "> Make a scatterplot of degree centrality on the x-axis\n",
        "> and betweenness centrality on the y-axis.\n",
        "> Do they correlate with one another?"
      ]
    },
    {
      "cell_type": "code",
      "execution_count": null,
      "metadata": {
        "tags": [],
        "id": "6hkTGqfr5Do4"
      },
      "outputs": [],
      "source": [
        "import matplotlib.pyplot as plt\n",
        "import seaborn as sns\n",
        "\n",
        "# YOUR ANSWER HERE:\n"
      ]
    },
    {
      "cell_type": "markdown",
      "metadata": {
        "id": "PE7ZFKwh5Do6"
      },
      "source": [
        "### Think about it...\n",
        "\n",
        "...does it make sense that degree centrality and betweenness centrality\n",
        "are not well-correlated?\n",
        "\n",
        "Can you think of a scenario where a node has a\n",
        "\"high\" betweenness centrality\n",
        "but a \"low\" degree centrality?\n",
        "Before peeking at the graph below,\n",
        "think about your answer for a moment."
      ]
    },
    {
      "cell_type": "code",
      "execution_count": null,
      "metadata": {
        "tags": [],
        "id": "qmKMsHHY5Do6",
        "colab": {
          "base_uri": "https://localhost:8080/",
          "height": 516
        },
        "outputId": "4e0ae899-3d8f-4da3-bb99-2019940dc130"
      },
      "outputs": [
        {
          "output_type": "display_data",
          "data": {
            "text/plain": [
              "<Figure size 640x480 with 1 Axes>"
            ],
            "image/png": "[encoded data removed]"
          },
          "metadata": {}
        }
      ],
      "source": [
        "nx.draw(nx.barbell_graph(5, 1))"
      ]
    },
    {
      "cell_type": "markdown",
      "metadata": {
        "id": "Sg3bVFqP5Do7"
      },
      "source": [
        "## Recap\n",
        "\n",
        "In this chapter, you learned the following things:\n",
        "\n",
        "1. You figured out how to implement the breadth-first-search algorithm to find shortest paths.\n",
        "1. You learned how to extract subgraphs from a larger graph.\n",
        "1. You implemented visualizations of subgraphs, which should help you as you communicate with colleagues.\n",
        "1. You calculated betweenness centrality metrics for a graph, and visualized how they correlated with degree centrality."
      ]
    },
    {
      "cell_type": "markdown",
      "source": [
        "## Introduction to Structures\n"
      ],
      "metadata": {
        "id": "O9XJn5cIBxQX"
      }
    },
    {
      "cell_type": "code",
      "execution_count": null,
      "metadata": {
        "id": "PQXDr7PlB9x1"
      },
      "outputs": [],
      "source": [
        "%load_ext autoreload\n",
        "%autoreload 2\n",
        "%matplotlib inline\n",
        "%config InlineBackend.figure_format = 'retina'\n",
        "import warnings\n",
        "warnings.filterwarnings('ignore')"
      ]
    },
    {
      "cell_type": "code",
      "execution_count": null,
      "metadata": {
        "id": "8kT-je_PB9yB"
      },
      "outputs": [],
      "source": [
        "from IPython.display import YouTubeVideo\n",
        "\n",
        "YouTubeVideo(id=\"3DWSRCbPPJs\", width=\"100%\")"
      ]
    },
    {
      "cell_type": "markdown",
      "metadata": {
        "id": "h9EAuzUCB9yF"
      },
      "source": [
        "If you remember, at the beginning of this book,\n",
        "we saw a quote from John Quackenbush that essentially said\n",
        "that the reason a graph is interesting is because of its edges.\n",
        "In this chapter, we'll see this in action once again,\n",
        "as we are going to figure out how to leverage the edges\n",
        "to find special _structures_ in a graph.\n",
        "\n",
        "## Triangles\n",
        "\n",
        "The first structure that we are going to learn about is **triangles**.\n",
        "Triangles are super interesting!\n",
        "They are what one might consider to be\n",
        "\"the simplest complex structure\" in a graph.\n",
        "Triangles can also have semantically-rich meaning depending on the application.\n",
        "To borrow a bad example, love triangles in social networks are generally frowned upon,\n",
        "while on the other hand, when we connect two people that we know together,\n",
        "we instead _complete_ a triangle.\n",
        "\n",
        "### Load Data\n",
        "\n",
        "To learn about triangles,\n",
        "we are going to leverage a physician trust network.\n",
        "Here's the data description:\n",
        "\n",
        "> This directed network captures innovation spread among 246 physicians \n",
        "> for towns in Illinois, Peoria, Bloomington, Quincy and Galesburg.\n",
        "> The data was collected in 1966.\n",
        "> A node represents a physician and an edge between two physicians\n",
        "> shows that the left physician told that the right physician is his friend\n",
        "> or that he turns to the right physician if he needs advice\n",
        "> or is interested in a discussion.\n",
        "> There always only exists one edge between two nodes\n",
        "> even if more than one of the listed conditions are true."
      ]
    },
    {
      "cell_type": "code",
      "execution_count": null,
      "metadata": {
        "id": "DSGE_6GDB9yK"
      },
      "outputs": [],
      "source": [
        "df = pd.read_csv(\n",
        "        \"https://raw.githubusercontent.com/ericmjl/Network-Analysis-Made-Simple/master/data/moreno_innovation/out.moreno_innovation_innovation\",\n",
        "        sep=\" \",\n",
        "        skiprows=2,\n",
        "        header=None,\n",
        "  )\n",
        "df = df[[0, 1]]\n",
        "df.columns = [\"doctor1\", \"doctor2\"]\n",
        "\n",
        "G = nx.Graph()\n",
        "for row in df.iterrows():\n",
        "    G.add_edge(row[1][\"doctor1\"], row[1][\"doctor2\"])"
      ]
    },
    {
      "cell_type": "code",
      "source": [
        "nx.draw(G)\n",
        "plt.show()"
      ],
      "metadata": {
        "colab": {
          "base_uri": "https://localhost:8080/",
          "height": 516
        },
        "id": "fsqHJGznDDBz",
        "outputId": "2c7642c6-2e15-4157-fd23-09effefc6074"
      },
      "execution_count": null,
      "outputs": [
        {
          "output_type": "display_data",
          "data": {
            "text/plain": [
              "<Figure size 640x480 with 1 Axes>"
            ],
            "image/png": "[encoded data removed]"
          },
          "metadata": {}
        }
      ]
    },
    {
      "cell_type": "markdown",
      "metadata": {
        "id": "fBbmMgDaB9yM"
      },
      "source": [
        "### Exercise: Finding triangles in a graph\n",
        "\n",
        "This exercise is going to flex your ability\n",
        "to \"think on a graph\", just as you did in the previous chapters.\n",
        "\n",
        "> Leveraging what you know, can you think of a few strategies\n",
        "> to find triangles in a graph?"
      ]
    },
    {
      "cell_type": "code",
      "execution_count": null,
      "metadata": {
        "id": "TzRlCvnrB9yN"
      },
      "outputs": [],
      "source": [
        "##"
      ]
    },
    {
      "cell_type": "markdown",
      "metadata": {
        "id": "7xK_KdeHB9yQ"
      },
      "source": [
        "### Exercise: Identify whether a node is in a triangle relationship or not\n",
        "\n",
        "Let's now get down to implementing this next piece of code.\n",
        "\n",
        "> Write a function that identifies whether a node is or is not in a triangle relationship.\n",
        "> It should take in a graph `G` and a node `n`,\n",
        "> and return a boolean True if the node `n` is in any triangle relationship\n",
        "> and boolean False if the node `n` is not in any triangle relationship.\n",
        "\n",
        "A hint that may help you:\n",
        "\n",
        "> Every graph object `G` has a `G.has_edge(n1, n2)` method that you can use to identify whether a graph has an edge between `n1` and `n2`.\n",
        "\n",
        "Also:\n",
        "\n",
        "> `itertools.combinations` lets you iterate over every _K-combination_ of items in an iterable."
      ]
    },
    {
      "cell_type": "code",
      "execution_count": null,
      "metadata": {
        "id": "2P1BG-UpB9yS"
      },
      "outputs": [],
      "source": [
        "\n",
        "def in_triangle(G, node):\n",
        "    # Your answer here\n",
        "    pass\n"
      ]
    },
    {
      "cell_type": "markdown",
      "metadata": {
        "id": "bZClmv2dB9yV"
      },
      "source": [
        "Now, test your implementation below!\n",
        "The code cell will not error out if your answer is correct."
      ]
    },
    {
      "cell_type": "code",
      "execution_count": null,
      "metadata": {
        "id": "duca3y8FB9yX"
      },
      "outputs": [],
      "source": [
        "from random import sample\n",
        "import networkx as nx\n",
        "\n",
        "def test_in_triangle():\n",
        "    nodes = sample(G.nodes(), 10)\n",
        "    for node in nodes:\n",
        "        assert in_triangle(G, 3) == bool(nx.triangles(G, 3))\n",
        "        \n",
        "test_in_triangle()"
      ]
    },
    {
      "cell_type": "markdown",
      "metadata": {
        "id": "yPi5KpGiB9yZ"
      },
      "source": [
        "As you can see from the test function above,\n",
        "NetworkX provides an `nx.triangles(G, node)` function.\n",
        "It returns the number of triangles that a node is involved in.\n",
        "We convert it to boolean as a hack to check whether or not\n",
        "a node is involved in a triangle relationship\n",
        "because 0 is equivalent to boolean `False`,\n",
        "while any non-zero number is equivalent to boolean `True`."
      ]
    },
    {
      "cell_type": "markdown",
      "metadata": {
        "id": "NucNy7H2B9ya"
      },
      "source": [
        "### Exercise: Extract triangles for plotting\n",
        "\n",
        "We're going to leverage another piece of knowledge that you already have:\n",
        "the ability to extract subgraphs.\n",
        "We'll be plotting all of the triangles that a node is involved in.\n",
        "\n",
        "> Given a node, write a function that extracts out\n",
        "> all of the neighbors that it is in a triangle relationship with.\n",
        "> Then, in a new function,\n",
        "> implement code that plots only the subgraph\n",
        "> that contains those nodes."
      ]
    },
    {
      "cell_type": "code",
      "execution_count": null,
      "metadata": {
        "id": "0e4q5EyFB9yb"
      },
      "outputs": [],
      "source": [
        "def get_triangle_neighbors(G, n):\n",
        "    # Your answer here\n",
        "    pass\n",
        "\n"
      ]
    },
    {
      "cell_type": "code",
      "execution_count": null,
      "metadata": {
        "id": "K5ZbBWZqB9yb"
      },
      "outputs": [],
      "source": [
        "def plot_triangle_relations(G, n):\n",
        "    # Your answer here\n",
        "    pass\n",
        "\n"
      ]
    },
    {
      "cell_type": "markdown",
      "metadata": {
        "id": "xkUvBFiSB9yd"
      },
      "source": [
        "## Triadic Closure\n",
        "\n",
        "In professional circles, making connections between two people\n",
        "is one of the most valuable things you can do professionally.\n",
        "What you do in that moment is what we would call\n",
        "**triadic closure**.\n",
        "Algorithmically, we can do the same thing\n",
        "if we maintain a graph of connections!\n",
        "\n",
        "Essentially, what we are looking for\n",
        "are \"open\" or \"unfinished\" triangles\".\n",
        "\n",
        "In this section, we'll try our hand at implementing\n",
        "a rudimentary triadic closure system.\n",
        "\n",
        "### Exercise: Design the algorithm\n",
        "\n",
        "> What graph logic would you use to identify triadic closure opportunities?\n",
        "> Try writing out your general strategy, or discuss it with someone."
      ]
    },
    {
      "cell_type": "code",
      "execution_count": null,
      "metadata": {
        "id": "11TLaZQCB9ye"
      },
      "outputs": [],
      "source": [
        "##"
      ]
    },
    {
      "cell_type": "markdown",
      "metadata": {
        "id": "zvrzsVzqB9yf"
      },
      "source": [
        "### Exercise: Implement triadic closure.\n",
        "\n",
        "Now, try your hand at implementing triadic closure.\n",
        "\n",
        "> Write a function that takes in a graph `G` and a node `n`,\n",
        "> and returns all of the neighbors that are potential triadic closures\n",
        "> with `n` being the center node.\n"
      ]
    },
    {
      "cell_type": "code",
      "execution_count": null,
      "metadata": {
        "id": "gNTGquPNB9yg"
      },
      "outputs": [],
      "source": [
        "def get_open_triangles_neighbors(G, n):\n",
        "    # Your answer here\n",
        "    pass\n"
      ]
    },
    {
      "cell_type": "markdown",
      "metadata": {
        "id": "62O1yqVDB9yh"
      },
      "source": [
        "### Exercise: Plot the open triangles\n",
        "\n",
        "> Now, write a function that takes in a graph `G` and a node `n`,\n",
        "> and plots out that node `n` and all of the neighbors\n",
        "> that it could help close triangles with.\n"
      ]
    },
    {
      "cell_type": "code",
      "execution_count": null,
      "metadata": {
        "id": "hcNE0lPPB9yh"
      },
      "outputs": [],
      "source": [
        "def plot_open_triangle_relations(G, n):\n",
        "    # Your answer here\n",
        "    pass\n"
      ]
    },
    {
      "cell_type": "markdown",
      "metadata": {
        "id": "35zSC5XUB9yi"
      },
      "source": [
        "## Cliques\n",
        "\n",
        "Triangles are interesting in a graph theoretic setting\n",
        "because triangles are the simplest complex clique that exist.\n",
        "\n",
        "But wait!\n",
        "What is the definition of a \"clique\"?\n",
        "\n",
        "> A \"clique\" is a set of nodes in a graph\n",
        "> that are fully connected with one another\n",
        "> by edges between them.\n",
        "\n",
        "### Exercise: Simplest cliques\n",
        "\n",
        "Given this definition, what is the simplest \"clique\" possible?"
      ]
    },
    {
      "cell_type": "code",
      "execution_count": null,
      "metadata": {
        "id": "oTKsC-8YB9yk"
      },
      "outputs": [],
      "source": [
        "#"
      ]
    },
    {
      "cell_type": "markdown",
      "metadata": {
        "id": "wSODS075B9yl"
      },
      "source": [
        "### $k$-Cliques\n",
        "\n",
        "Cliques are identified by their size $k$,\n",
        "which is the number of nodes that are present in the clique.\n",
        "\n",
        "A triangle is what we would consider to be a $k$-clique where $k=3$.\n",
        "\n",
        "A square with cross-diagonal connections is what we would consider to be\n",
        "a $k$-clique where $k=4$.\n",
        "\n",
        "By now, you should get the gist of the idea.\n",
        "\n",
        "### Maximal Cliques\n",
        "\n",
        "Related to this idea of a $k$-clique is another idea called \"maximal cliques\".\n",
        "\n",
        "Maximal cliques are defined as follows:\n",
        "\n",
        "> A maximal clique is a subgraph of nodes in a graph\n",
        "> \n",
        "> 1. to which no other node can be added to it and \n",
        "> 2. still remain a clique.\n",
        "\n",
        "NetworkX provides a way to find all maximal cliques:"
      ]
    },
    {
      "cell_type": "code",
      "execution_count": null,
      "metadata": {
        "id": "mcbtJq2ZB9ym"
      },
      "outputs": [],
      "source": [
        "# I have truncated the output to the first 5 maximal cliques.\n",
        "list(nx.find_cliques(G))[0:5]"
      ]
    },
    {
      "cell_type": "markdown",
      "metadata": {
        "id": "YAkz7650B9yn"
      },
      "source": [
        "### Exercise: finding sized-$k$ maximal cliques\n",
        "\n",
        "> Write a generator function that yields all maximal cliques of size $k$.\n",
        "\n",
        "I'm requesting a generator as a matter of good practice;\n",
        "you never know when the list you return might explode in memory consumption,\n",
        "so generators are a cheap and easy way to reduce memory usage."
      ]
    },
    {
      "cell_type": "code",
      "execution_count": null,
      "metadata": {
        "id": "nB1OV41RB9yn"
      },
      "outputs": [],
      "source": [
        "def size_k_maximal_cliques(G, k):\n",
        "    # Your answer here\n",
        "    pass\n"
      ]
    },
    {
      "cell_type": "markdown",
      "metadata": {
        "id": "ZbgLSCl6B9yo"
      },
      "source": [
        "Now, test your implementation against the test function below."
      ]
    },
    {
      "cell_type": "code",
      "execution_count": null,
      "metadata": {
        "id": "uOKdZoGKB9yo"
      },
      "outputs": [],
      "source": [
        "def test_size_k_maximal_cliques(G, k):\n",
        "    clique_generator = size_k_maximal_cliques(G, k)\n",
        "    for clique in clique_generator:\n",
        "        assert len(clique) == k\n",
        "    \n",
        "test_size_k_maximal_cliques(G, 5)"
      ]
    },
    {
      "cell_type": "markdown",
      "metadata": {
        "id": "XkQUDjU5B9yp"
      },
      "source": [
        "### Clique Decomposition\n",
        "\n",
        "One _super_ neat property of cliques\n",
        "is that every clique of size $k$\n",
        "can be decomposed to the set of cliques of size $k-1$.\n",
        "\n",
        "Does this make sense to you?\n",
        "If not, think about triangles (3-cliques).\n",
        "They can be decomposed to three edges (2-cliques).\n",
        "\n",
        "Think again about 4-cliques.\n",
        "Housed within 4-cliques are four 3-cliques.\n",
        "_Draw it out if you're still not convinced!_"
      ]
    },
    {
      "cell_type": "markdown",
      "metadata": {
        "id": "F8exiaI1B9yp"
      },
      "source": [
        "### Exercise: finding all $k$-cliques in a graph\n",
        "\n",
        "> Knowing this property of $k$-cliques,\n",
        "> write a generator function that yields all $k$-cliques in a graph,\n",
        "> leveraging the `nx.find_cliques(G)` function.\n",
        "\n",
        "Some hints to help you along:\n",
        "\n",
        "> If a $k$-clique can be decomposed to its $k-1$ cliques,\n",
        "> it follows that the $k-1$ cliques can be decomposed into $k-2$ cliques,\n",
        "> and so on until you hit 2-cliques.\n",
        "> This implies that all cliques of size $k$\n",
        "> house cliques of size $n < k$, where $n >= 2$."
      ]
    },
    {
      "cell_type": "code",
      "execution_count": null,
      "metadata": {
        "id": "oA6wyIhKB9yq"
      },
      "outputs": [],
      "source": [
        "def find_k_cliques(G, k):\n",
        "    # your answer here\n",
        "    pass\n"
      ]
    },
    {
      "cell_type": "markdown",
      "metadata": {
        "id": "IKQMQCHyB9yr"
      },
      "source": [
        "## Connected Components\n",
        "\n",
        "Now that we've explored a lot around cliques,\n",
        "we're now going to explore this idea of \"connected components\".\n",
        "To do so, I am going to have you draw the graph\n",
        "that we are working with.\n"
      ]
    },
    {
      "cell_type": "code",
      "execution_count": null,
      "metadata": {
        "tags": [],
        "id": "ccLCf6NUB9ys"
      },
      "outputs": [],
      "source": [
        "import nxviz as nv\n",
        "\n",
        "nv.circos(G)"
      ]
    },
    {
      "cell_type": "markdown",
      "metadata": {
        "id": "LJXARUpxB9yt"
      },
      "source": [
        "### Exercise: Visual insights\n",
        "\n",
        "From this rendering of the CircosPlot,\n",
        "what visual insights do you have about the structure of the graph?"
      ]
    },
    {
      "cell_type": "code",
      "execution_count": null,
      "metadata": {
        "tags": [],
        "id": "dED83JUnB9yu"
      },
      "outputs": [],
      "source": [
        "## "
      ]
    },
    {
      "cell_type": "markdown",
      "metadata": {
        "id": "eX4RajJrB9yu"
      },
      "source": [
        "### Defining connected components\n",
        "\n",
        "From [Wikipedia](https://en.wikipedia.org/wiki/Connected_component_%28graph_theory%29):\n",
        "\n",
        "> In graph theory, a connected component (or just component) of an undirected graph is a subgraph in which any two vertices are connected to each other by paths, and which is connected to no additional vertices in the supergraph.\n",
        "\n",
        "NetworkX provides a function to let us find all of the connected components:"
      ]
    },
    {
      "cell_type": "code",
      "execution_count": null,
      "metadata": {
        "tags": [],
        "id": "eXP-rTUaB9yv"
      },
      "outputs": [],
      "source": [
        "ccsubgraph_nodes = list(nx.connected_components(G))"
      ]
    },
    {
      "cell_type": "markdown",
      "metadata": {
        "id": "YxyfzKw-B9yw"
      },
      "source": [
        "Let's see how many connected component subgraphs are present:"
      ]
    },
    {
      "cell_type": "code",
      "execution_count": null,
      "metadata": {
        "tags": [],
        "id": "zqh2wlLFB9yx"
      },
      "outputs": [],
      "source": [
        "len(ccsubgraph_nodes)"
      ]
    },
    {
      "cell_type": "markdown",
      "metadata": {
        "id": "o_KWpAwbB9yx"
      },
      "source": [
        "### Exercise: visualizing connected component subgraphs\n",
        "\n",
        "In this exercise, we're going to draw a circos plot of the graph, \n",
        "but colour and order the nodes by their connected component subgraph.\n",
        "\n",
        "Recall Circos API:\n",
        "\n",
        "```python\n",
        "c = CircosPlot(G, node_order='node_attribute', node_color='node_attribute')\n",
        "c.draw()\n",
        "plt.show()  # or plt.savefig(...)\n",
        "```\n",
        "\n",
        "Follow the steps along here to accomplish this.\n",
        "\n",
        "> Firstly, label the nodes with a unique identifier for connected component subgraph\n",
        "> that it resides in.\n",
        "> Use `subgraph` to store this piece of metadata."
      ]
    },
    {
      "cell_type": "code",
      "execution_count": null,
      "metadata": {
        "tags": [],
        "id": "QWYUZCidB9yy"
      },
      "outputs": [],
      "source": [
        "def label_connected_component_subgraphs(G):\n",
        "    # Your answer here\n",
        "    return G\n",
        "\n"
      ]
    },
    {
      "cell_type": "markdown",
      "metadata": {
        "id": "DW8Ve8m3B9y2"
      },
      "source": [
        "> Now, draw a CircosPlot with the node order and colouring\n",
        "> dictated by the `subgraph` key."
      ]
    },
    {
      "cell_type": "code",
      "execution_count": null,
      "metadata": {
        "tags": [],
        "id": "Vz874lB4B9y3"
      },
      "outputs": [],
      "source": [
        "def plot_cc_subgraph(G):\n",
        "    # Your answer here\n",
        "    pass\n"
      ]
    },
    {
      "cell_type": "markdown",
      "metadata": {
        "id": "XXsAmliYB9y4"
      },
      "source": [
        "Using an arc plot will also clearly illuminate for us\n",
        "that there are no inter-group connections."
      ]
    },
    {
      "cell_type": "code",
      "execution_count": null,
      "metadata": {
        "tags": [],
        "id": "Uhd39D4UB9y4"
      },
      "outputs": [],
      "source": [
        "nv.arc(G_labelled, group_by=\"subgraph\", node_color_by=\"subgraph\")\n",
        "annotate.arc_group(G_labelled, group_by=\"subgraph\", rotation=0)"
      ]
    },
    {
      "cell_type": "markdown",
      "metadata": {
        "id": "gFYiAfV3B9y5"
      },
      "source": [
        "_Voila!_ It looks quite clear that there are indeed four disjoint group of physicians."
      ]
    }
  ]
}